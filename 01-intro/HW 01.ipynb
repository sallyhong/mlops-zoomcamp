{
 "cells": [
  {
   "cell_type": "code",
   "execution_count": 1,
   "id": "34b0e405-ea92-4144-91ef-a1931481374a",
   "metadata": {},
   "outputs": [],
   "source": [
    "import pandas as pd\n",
    "\n",
    "from sklearn.feature_extraction import DictVectorizer\n",
    "from sklearn.linear_model import LinearRegression\n",
    "from sklearn.linear_model import Lasso\n",
    "from sklearn.linear_model import Ridge\n",
    "\n",
    "from sklearn.metrics import root_mean_squared_error"
   ]
  },
  {
   "cell_type": "code",
   "execution_count": 2,
   "id": "917bdf7f-727f-4c4e-a760-0fafc1629ae4",
   "metadata": {},
   "outputs": [],
   "source": [
    "GREEN_TAXI_JAN_2023 = \"../data/yellow_tripdata_2023-01.parquet\"\n",
    "GREEN_TAXI_FEB_2023 = \"../data/yellow_tripdata_2023-02.parquet\""
   ]
  },
  {
   "cell_type": "code",
   "execution_count": 3,
   "id": "3900c68f-359d-42b3-b296-7f9efc0bacd9",
   "metadata": {},
   "outputs": [],
   "source": [
    "df_jan = pd.read_parquet(GREEN_TAXI_JAN_2023)\n",
    "df_feb = pd.read_parquet(GREEN_TAXI_FEB_2023)"
   ]
  },
  {
   "cell_type": "markdown",
   "id": "61529fb6-fb84-4c81-a19f-8abe381b91d8",
   "metadata": {},
   "source": [
    "## Q1. Downloading the data\n",
    "\n",
    "We'll use [the same NYC taxi dataset](https://www1.nyc.gov/site/tlc/about/tlc-trip-record-data.page),\n",
    "but instead of \"**Green** Taxi Trip Records\", we'll use \"**Yellow** Taxi Trip Records\".\n",
    "\n",
    "Download the data for January and February 2023.\n",
    "\n",
    "Read the data for January. How many columns are there?\n",
    "\n",
    "* 16\n",
    "* 17\n",
    "* 18\n",
    "* 19"
   ]
  },
  {
   "cell_type": "code",
   "execution_count": 4,
   "id": "6b52074a-5443-46c6-bb41-a0a9b8f94df5",
   "metadata": {},
   "outputs": [
    {
     "data": {
      "text/plain": [
       "(3066766, 19)"
      ]
     },
     "execution_count": 4,
     "metadata": {},
     "output_type": "execute_result"
    }
   ],
   "source": [
    "# how many columns\n",
    "df_jan.shape\n",
    "\n",
    "# 19"
   ]
  },
  {
   "cell_type": "markdown",
   "id": "08c34e75-238a-41a7-8ef4-3c37f0978f2d",
   "metadata": {},
   "source": [
    "## Q2. Computing duration\n",
    "\n",
    "Now let's compute the `duration` variable. It should contain the duration of a ride in minutes. \n",
    "\n",
    "What's the standard deviation of the trips duration in January?\n",
    "\n",
    "* 32.59\n",
    "* 42.59\n",
    "* 52.59\n",
    "* 62.59"
   ]
  },
  {
   "cell_type": "code",
   "execution_count": 5,
   "id": "90f518ad-eb4c-49bd-9eb5-4945fc80b976",
   "metadata": {},
   "outputs": [
    {
     "data": {
      "text/plain": [
       "42.594351241920904"
      ]
     },
     "execution_count": 5,
     "metadata": {},
     "output_type": "execute_result"
    }
   ],
   "source": [
    "df_jan[\"duration_in_minutes\"] = (df_jan[\"tpep_dropoff_datetime\"]-df_jan[\"tpep_pickup_datetime\"]).dt.total_seconds() / 60\n",
    "df_jan[\"duration_in_minutes\"].std()"
   ]
  },
  {
   "cell_type": "markdown",
   "id": "d96e83e4-cdb6-4786-9bd9-194ab4e9a350",
   "metadata": {},
   "source": [
    "## Q3. Dropping outliers\n",
    "\n",
    "Next, we need to check the distribution of the `duration` variable. There are some outliers. Let's remove them and keep only the records where the duration was between 1 and 60 minutes (inclusive).\n",
    "\n",
    "What fraction of the records left after you dropped the outliers?\n",
    "\n",
    "* 90%\n",
    "* 92%\n",
    "* 95%\n",
    "* 98%\n"
   ]
  },
  {
   "cell_type": "code",
   "execution_count": 6,
   "id": "e2748faf-9ed7-4268-9174-b6e77ce47467",
   "metadata": {},
   "outputs": [
    {
     "name": "stdout",
     "output_type": "stream",
     "text": [
      "Records left: 98.12%\n"
     ]
    }
   ],
   "source": [
    "before_dropping = len(df_jan)\n",
    "\n",
    "df_jan = df_jan.query(\"1 <= duration_in_minutes <= 60\")\n",
    "\n",
    "after_dropping = len(df_jan)\n",
    "\n",
    "print(f\"Records left: {after_dropping/before_dropping * 100:.2f}%\")"
   ]
  },
  {
   "cell_type": "markdown",
   "id": "6cc4c8c2-1073-4184-b1e8-f1d8d9ca8a69",
   "metadata": {},
   "source": [
    "## Q4. One-hot encoding\n",
    "\n",
    "Let's apply one-hot encoding to the pickup and dropoff location IDs. We'll use only these two features for our model. \n",
    "\n",
    "* Turn the dataframe into a list of dictionaries (remember to re-cast the ids to strings - otherwise it will \n",
    "  label encode them)\n",
    "* Fit a dictionary vectorizer \n",
    "* Get a feature matrix from it\n",
    "\n",
    "What's the dimensionality of this matrix (number of columns)?\n",
    "\n",
    "* 2\n",
    "* 155\n",
    "* 345\n",
    "* 515\n",
    "* 715\n"
   ]
  },
  {
   "cell_type": "code",
   "execution_count": 7,
   "id": "cc54b82a-ba3d-41b3-af27-23de3c688691",
   "metadata": {},
   "outputs": [],
   "source": [
    "categorical = [\"PULocationID\", \"DOLocationID\"]\n",
    "\n",
    "# recast the ids into strings\n",
    "df_jan[categorical] = df_jan[categorical].astype(str)\n",
    "\n",
    "# convert dataframe to list of dictionaries\n",
    "categorical_dict = df_jan[categorical].to_dict(orient=\"records\")\n",
    "\n",
    "# fit a dictionary vectorizer\n",
    "vec = DictVectorizer(sparse=True)\n",
    "X_train = vec.fit_transform(categorical_dict)"
   ]
  },
  {
   "cell_type": "code",
   "execution_count": 8,
   "id": "bbc6549b-4cfc-4cdf-aed2-d30fafdaf651",
   "metadata": {},
   "outputs": [
    {
     "data": {
      "text/plain": [
       "(3009173, 515)"
      ]
     },
     "execution_count": 8,
     "metadata": {},
     "output_type": "execute_result"
    }
   ],
   "source": [
    "X_train.shape"
   ]
  },
  {
   "cell_type": "markdown",
   "id": "d2641d1e-1249-42ae-a025-97d2d88807c6",
   "metadata": {},
   "source": [
    "## Q5. Training a model\n",
    "\n",
    "Now let's use the feature matrix from the previous step to train a model. \n",
    "\n",
    "* Train a plain linear regression model with default parameters \n",
    "* Calculate the RMSE of the model on the training data\n",
    "\n",
    "What's the RMSE on train?\n",
    "\n",
    "* 3.64\n",
    "* 7.64\n",
    "* 11.64\n",
    "* 16.64"
   ]
  },
  {
   "cell_type": "code",
   "execution_count": 9,
   "id": "03dc40dd-3745-4924-bc77-affc36d8e589",
   "metadata": {},
   "outputs": [
    {
     "name": "stdout",
     "output_type": "stream",
     "text": [
      "7.65\n"
     ]
    }
   ],
   "source": [
    "target = \"duration_in_minutes\"\n",
    "y_train = df_jan[target].values\n",
    "\n",
    "lr = LinearRegression()\n",
    "lr.fit(X_train, y_train)\n",
    "\n",
    "y_pred = lr.predict(X_train)\n",
    "\n",
    "RMSE = root_mean_squared_error(y_train, y_pred)\n",
    "\n",
    "print(f\"{RMSE:.2f}\")"
   ]
  },
  {
   "cell_type": "markdown",
   "id": "7e1d6d2b-3563-4039-a39a-b24e9bc6280c",
   "metadata": {},
   "source": [
    "## Q6. Evaluating the model\n",
    "\n",
    "Now let's apply this model to the validation dataset (February 2023). \n",
    "\n",
    "What's the RMSE on validation?\n",
    "\n",
    "* 3.81\n",
    "* 7.81\n",
    "* 11.81\n",
    "* 16.81"
   ]
  },
  {
   "cell_type": "code",
   "execution_count": 10,
   "id": "71e774c4-3a72-4f82-8d54-d18f2ab494b6",
   "metadata": {},
   "outputs": [
    {
     "name": "stdout",
     "output_type": "stream",
     "text": [
      "7.81\n"
     ]
    }
   ],
   "source": [
    "# run the same transformation on validation data\n",
    "\n",
    "df_feb[\"duration_in_minutes\"] = (df_feb[\"tpep_dropoff_datetime\"]-df_feb[\"tpep_pickup_datetime\"]).dt.total_seconds() / 60\n",
    "df_feb = df_feb.query(\"1 <= duration_in_minutes <= 60\")\n",
    "\n",
    "categorical = [\"PULocationID\", \"DOLocationID\"]\n",
    "\n",
    "# recast the ids into strings\n",
    "df_feb[categorical] = df_feb[categorical].astype(str)\n",
    "\n",
    "# convert dataframe to list of dictionaries\n",
    "categorical_dict = df_feb[categorical].to_dict(orient=\"records\")\n",
    "\n",
    "# fit a dictionary vectorizer\n",
    "X_train = vec.transform(categorical_dict)\n",
    "\n",
    "y_test = df_feb[target].values\n",
    "\n",
    "y_pred = lr.predict(X_train)\n",
    "\n",
    "RMSE = root_mean_squared_error(y_test, y_pred)\n",
    "\n",
    "print(f\"{RMSE:.2f}\")"
   ]
  },
  {
   "cell_type": "markdown",
   "id": "dd1871d8-107a-4511-bb89-a00937d2f806",
   "metadata": {},
   "source": [
    "## Submit the results\n",
    "\n",
    "* Submit your results here: https://courses.datatalks.club/mlops-zoomcamp-2024/homework/hw1\n",
    "* If your answer doesn't match options exactly, select the closest one"
   ]
  }
 ],
 "metadata": {
  "kernelspec": {
   "display_name": "Python 3 (ipykernel)",
   "language": "python",
   "name": "python3"
  },
  "language_info": {
   "codemirror_mode": {
    "name": "ipython",
    "version": 3
   },
   "file_extension": ".py",
   "mimetype": "text/x-python",
   "name": "python",
   "nbconvert_exporter": "python",
   "pygments_lexer": "ipython3",
   "version": "3.12.3"
  }
 },
 "nbformat": 4,
 "nbformat_minor": 5
}
